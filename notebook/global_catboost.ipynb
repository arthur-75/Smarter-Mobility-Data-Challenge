{
 "cells": [
  {
   "cell_type": "code",
   "execution_count": null,
   "id": "46b2082a",
   "metadata": {
    "colab": {
     "base_uri": "https://localhost:8080/"
    },
    "id": "46b2082a",
    "outputId": "a9dcf1fe-0406-4e7e-a4d7-ac1710e83400"
   },
   "outputs": [
    {
     "name": "stdout",
     "output_type": "stream",
     "text": [
      "Looking in indexes: https://pypi.org/simple, https://us-python.pkg.dev/colab-wheels/public/simple/\n",
      "Requirement already satisfied: catboost in /usr/local/lib/python3.8/dist-packages (1.1.1)\n",
      "Requirement already satisfied: matplotlib in /usr/local/lib/python3.8/dist-packages (from catboost) (3.2.2)\n",
      "Requirement already satisfied: scipy in /usr/local/lib/python3.8/dist-packages (from catboost) (1.7.3)\n",
      "Requirement already satisfied: six in /usr/local/lib/python3.8/dist-packages (from catboost) (1.15.0)\n",
      "Requirement already satisfied: numpy>=1.16.0 in /usr/local/lib/python3.8/dist-packages (from catboost) (1.21.6)\n",
      "Requirement already satisfied: pandas>=0.24.0 in /usr/local/lib/python3.8/dist-packages (from catboost) (1.3.5)\n",
      "Requirement already satisfied: plotly in /usr/local/lib/python3.8/dist-packages (from catboost) (5.5.0)\n",
      "Requirement already satisfied: graphviz in /usr/local/lib/python3.8/dist-packages (from catboost) (0.10.1)\n",
      "Requirement already satisfied: python-dateutil>=2.7.3 in /usr/local/lib/python3.8/dist-packages (from pandas>=0.24.0->catboost) (2.8.2)\n",
      "Requirement already satisfied: pytz>=2017.3 in /usr/local/lib/python3.8/dist-packages (from pandas>=0.24.0->catboost) (2022.6)\n",
      "Requirement already satisfied: kiwisolver>=1.0.1 in /usr/local/lib/python3.8/dist-packages (from matplotlib->catboost) (1.4.4)\n",
      "Requirement already satisfied: pyparsing!=2.0.4,!=2.1.2,!=2.1.6,>=2.0.1 in /usr/local/lib/python3.8/dist-packages (from matplotlib->catboost) (3.0.9)\n",
      "Requirement already satisfied: cycler>=0.10 in /usr/local/lib/python3.8/dist-packages (from matplotlib->catboost) (0.11.0)\n",
      "Requirement already satisfied: tenacity>=6.2.0 in /usr/local/lib/python3.8/dist-packages (from plotly->catboost) (8.1.0)\n"
     ]
    }
   ],
   "source": [
    "from sklearn.metrics import mean_squared_error\n",
    "\n",
    "from sklearn.metrics import mean_absolute_error as MAE\n",
    "\n",
    "from sklearn.preprocessing import OneHotEncoder\n",
    "\n",
    "from sklearn.multioutput import MultiOutputRegressor\n",
    "from sklearn.model_selection import TimeSeriesSplit\n",
    "import xgboost as xgb\n",
    "from sklearn.preprocessing import StandardScaler,MaxAbsScaler,MinMaxScaler,OrdinalEncoder\n",
    "from sklearn.model_selection import GridSearchCV\n",
    "#%pip install catboost\n",
    "from sklearn.multioutput import MultiOutputRegressor\n",
    "from sklearn.pipeline import Pipeline\n",
    "\n",
    "import pandas as pd\n",
    "import numpy as np \n",
    "import matplotlib.pyplot as plt\n",
    "%pip install catboost\n",
    "import catboost as cb"
   ]
  },
  {
   "cell_type": "code",
   "execution_count": null,
   "id": "JigVhuVY3ec4",
   "metadata": {
    "colab": {
     "base_uri": "https://localhost:8080/"
    },
    "id": "JigVhuVY3ec4",
    "outputId": "928cb9a9-75f5-40a4-fd66-62bcd3ecf381"
   },
   "outputs": [
    {
     "name": "stdout",
     "output_type": "stream",
     "text": [
      "Drive already mounted at /content/drive; to attempt to forcibly remount, call drive.mount(\"/content/drive\", force_remount=True).\n"
     ]
    }
   ],
   "source": [
    "from google.colab import drive\n",
    "drive.mount('/content/drive')"
   ]
  },
  {
   "cell_type": "code",
   "execution_count": null,
   "id": "o_ceAGHE3o5S",
   "metadata": {
    "colab": {
     "base_uri": "https://localhost:8080/"
    },
    "id": "o_ceAGHE3o5S",
    "outputId": "d2191c67-93c4-4d95-9ec5-3f7e8ff9a3ed"
   },
   "outputs": [
    {
     "name": "stdout",
     "output_type": "stream",
     "text": [
      "[Errno 2] No such file or directory: 'drive/MyDrive/Colab Notebooks/Challenge/'\n",
      "/content/drive/MyDrive/Colab Notebooks/Challenge\n"
     ]
    }
   ],
   "source": [
    "cd \"drive/MyDrive/Colab Notebooks/Challenge/\""
   ]
  },
  {
   "cell_type": "code",
   "execution_count": null,
   "id": "26fc029a",
   "metadata": {
    "id": "26fc029a"
   },
   "outputs": [],
   "source": [
    "\n",
    "train_station = pd.read_csv(\"remCharEWM4.csv\", sep=\",\")\n",
    "train_station['date'] = pd.to_datetime(train_station['date'])\n",
    "train_station['Postcode'] = train_station['Postcode'].astype(str)\n",
    "\n",
    "\n",
    "train_global = train_station.groupby('date').agg({'Available': 'sum',\n",
    "                                                  'Charging': 'sum',\n",
    "                                                  'Passive': 'sum',\n",
    "                                                  'Other': 'sum',\n",
    "                                                  'tod': 'max',\n",
    "                                                  'dow': 'max',\n",
    "                                                  'trend': 'max'}).reset_index()\n",
    "\n",
    "test_station=pd.read_csv(\"test.csv\", sep=\",\")\n",
    "test_station['date'] = pd.to_datetime(test_station['date'])\n",
    "test_station['Postcode'] = test_station['Postcode'].astype(str)\n",
    "test_global= test_station.groupby('date').agg({\n",
    "    'tod': 'max',\n",
    "    'dow': 'max',\n",
    "    'trend': 'max'}).reset_index()\n"
   ]
  },
  {
   "cell_type": "code",
   "execution_count": null,
   "id": "i0T9itKrkH95",
   "metadata": {
    "id": "i0T9itKrkH95"
   },
   "outputs": [],
   "source": [
    "def make_cols(data,not_test=True):\n",
    "  if not_test :\n",
    "    data[\"labels\"]=data.Available.astype(int).astype(str) + data.Charging.astype(int).astype(str) + data.Passive.astype(int).astype(str)+ data.Other.astype(int).astype(str)\n",
    "  data['hour'] = data.date.dt.hour\n",
    "  data['min'] = data.date.dt.minute\n",
    "  data['quarter'] = data.date.dt.quarter\n",
    "  data['dayofmonth'] = data.date.dt.day\n",
    "  return data\n",
    "\n",
    "\n",
    "train_global=make_cols(train_station)\n",
    "test_global=make_cols(test_station,False)\n",
    "df_train=train_station.copy().loc[train_station.date < '2021-02-1 00:00:00']\n",
    "df_val=train_station.copy().loc[train_station.date >= '2021-02-1 00:00:00']\n"
   ]
  },
  {
   "cell_type": "code",
   "execution_count": null,
   "id": "d9RlFUn1GoFt",
   "metadata": {
    "id": "d9RlFUn1GoFt"
   },
   "outputs": [],
   "source": [
    "\n",
    "col_act=[\"hour\",\"tod\",\"min\",\"dow\",\"trend\"]\n",
    "targets=[\"Available\"\t,\"Charging\"\t,\"Passive\",\t\"Other\"\t]\n",
    "cat_x_train= train_station[col_act].copy()\n",
    "cat_y_train=train_station[targets].copy()\n",
    "cat_x_test=df_val[col_act].copy()\n",
    "cat_y_test=df_val[targets].copy()\n"
   ]
  },
  {
   "cell_type": "code",
   "execution_count": null,
   "id": "b4a6e65f",
   "metadata": {
    "colab": {
     "base_uri": "https://localhost:8080/"
    },
    "id": "b4a6e65f",
    "outputId": "f4d67698-20f7-4865-b4b7-4bf161e4fa98"
   },
   "outputs": [
    {
     "name": "stdout",
     "output_type": "stream",
     "text": [
      "0:\tlearn: 1.9204067\ttotal: 410ms\tremaining: 10m 13s\n",
      "100:\tlearn: 1.8999912\ttotal: 38.4s\tremaining: 8m 52s\n",
      "200:\tlearn: 1.8981145\ttotal: 1m 17s\tremaining: 8m 23s\n",
      "300:\tlearn: 1.8972564\ttotal: 1m 54s\tremaining: 7m 37s\n",
      "400:\tlearn: 1.8967499\ttotal: 2m 31s\tremaining: 6m 54s\n",
      "500:\tlearn: 1.8964062\ttotal: 3m 7s\tremaining: 6m 13s\n",
      "600:\tlearn: 1.8961761\ttotal: 3m 43s\tremaining: 5m 34s\n",
      "700:\tlearn: 1.8959820\ttotal: 4m 20s\tremaining: 4m 56s\n",
      "800:\tlearn: 1.8958500\ttotal: 4m 56s\tremaining: 4m 18s\n",
      "900:\tlearn: 1.8957247\ttotal: 5m 32s\tremaining: 3m 40s\n",
      "1000:\tlearn: 1.8956204\ttotal: 6m 8s\tremaining: 3m 3s\n",
      "1100:\tlearn: 1.8955439\ttotal: 6m 44s\tremaining: 2m 26s\n",
      "1200:\tlearn: 1.8954735\ttotal: 7m 19s\tremaining: 1m 49s\n",
      "1300:\tlearn: 1.8954219\ttotal: 7m 55s\tremaining: 1m 12s\n",
      "1400:\tlearn: 1.8953737\ttotal: 8m 34s\tremaining: 36.3s\n",
      "1499:\tlearn: 1.8953270\ttotal: 9m 9s\tremaining: 0us\n"
     ]
    },
    {
     "data": {
      "text/plain": [
       "<catboost.core.CatBoostRegressor at 0x7ffb4add2bb0>"
      ]
     },
     "execution_count": 36,
     "metadata": {},
     "output_type": "execute_result"
    }
   ],
   "source": [
    "\n",
    "cat_features_index = [0,3]\n",
    "\n",
    "\n",
    "dec_values={'depth': 3, 'iterations': 1500, 'l2_leaf_reg': 1, 'learning_rate': .1}\n",
    "#print(cb_model.best_params_,cb_model.best_score_)\n",
    "clf = cb.CatBoostRegressor(eval_metric=\"MultiRMSE\",loss_function=\"MultiRMSE\",one_hot_max_size=200,depth= dec_values[\"depth\"],\n",
    "                          iterations = dec_values[\"iterations\"], learning_rate= dec_values[\"learning_rate\"],\n",
    "                           l2_leaf_reg= dec_values[\"l2_leaf_reg\"])# 0.1\n",
    "chain=(clf).fit(cat_x_train,cat_y_train, cat_features= cat_features_index,verbose=100)\n",
    "# {'depth': 5, 'iterations': 1000, 'l2_leaf_reg': 1, 'learning_rate': 0.01}\n",
    "# \n",
    "chain"
   ]
  },
  {
   "cell_type": "code",
   "execution_count": null,
   "id": "OT1qfD6-43dr",
   "metadata": {
    "colab": {
     "base_uri": "https://localhost:8080/"
    },
    "id": "OT1qfD6-43dr",
    "outputId": "8bb992bc-3ee6-4240-cdf6-9eb100f0d1f7"
   },
   "outputs": [
    {
     "name": "stdout",
     "output_type": "stream",
     "text": [
      "sklearn MAE \n",
      "[4.24937561 3.22309412 2.22506611 3.07021183]\n",
      "\n",
      "\n",
      "3.1919369175673418\n",
      "\n",
      "\n",
      "sklearn MAE on the mean \n",
      "\n",
      "Available     3.167597\n",
      "Charging     12.303050\n",
      "Passive      13.440409\n",
      "Other         3.194941\n",
      "dtype: float64%\n"
     ]
    }
   ],
   "source": [
    "y_pred_class=np.floor(#cb_model.best_estimator_.predict(cat_x_test)).astype(int)\n",
    "                     chain.predict(cat_x_test)).astype(int)\n",
    "\n",
    "df55=df_val[[\"Available\",\"Charging\",\"Passive\",\"Other\"]].copy()\n",
    "df55[[i+\"_\" for i in targets]]=y_pred_class\n",
    "\n",
    "mea00=MAE(df55[[i+\"_\" for i in targets]],df55[targets],multioutput=\"raw_values\")\n",
    "\n",
    "print(f'sklearn MAE \\n{mea00}\\n')\n",
    "print(f'\\n{mea00.mean()}\\n\\n')\n",
    "print(f'sklearn MAE on the mean \\n\\n{100*mea00/df55[targets].mean(axis=0)}%')\n",
    "#[5.47350898 2.10856977 1.41632889 8.37072959]\n",
    "\n",
    "\n",
    "\n",
    "#sklearn MAE on the mean \n",
    "# 6.50347 #4.829137731481481\n",
    "#sklearn MAE on the mean  #6.051359953703704\n",
    "\n",
    "\n",
    "#[17.98726852  4.78472222  3.45023148 29.07002315]\n",
    "#13.823061342592592 13.302083333333332 #6.686921296296297 12.660 10.17\n",
    "#sklearn MAE on the mean \n",
    "#Available    13.727586\n",
    "#Charging     18.405236\n",
    "#Passive      21.208025\n",
    "#Other        42.381061\n",
    "#13.9921875\n",
    "\n",
    "#12.233362268518519\n",
    "#12.070601851851851\n",
    "#11.719039351851851"
   ]
  },
  {
   "cell_type": "code",
   "execution_count": null,
   "id": "9926aa13",
   "metadata": {
    "colab": {
     "base_uri": "https://localhost:8080/",
     "height": 419
    },
    "id": "9926aa13",
    "outputId": "d451c829-c4b2-402d-83b8-d3027a8e5765"
   },
   "outputs": [
    {
     "data": {
      "text/html": [
       "\n",
       "  <div id=\"df-410f023a-c83b-40a7-ae3e-5fe7130c76df\">\n",
       "    <div class=\"colab-df-container\">\n",
       "      <div>\n",
       "<style scoped>\n",
       "    .dataframe tbody tr th:only-of-type {\n",
       "        vertical-align: middle;\n",
       "    }\n",
       "\n",
       "    .dataframe tbody tr th {\n",
       "        vertical-align: top;\n",
       "    }\n",
       "\n",
       "    .dataframe thead th {\n",
       "        text-align: right;\n",
       "    }\n",
       "</style>\n",
       "<table border=\"1\" class=\"dataframe\">\n",
       "  <thead>\n",
       "    <tr style=\"text-align: right;\">\n",
       "      <th></th>\n",
       "      <th>date</th>\n",
       "      <th>tod</th>\n",
       "      <th>dow</th>\n",
       "      <th>trend</th>\n",
       "      <th>hour</th>\n",
       "      <th>min</th>\n",
       "      <th>dayofmonth</th>\n",
       "      <th>Available</th>\n",
       "      <th>Charging</th>\n",
       "      <th>Passive</th>\n",
       "      <th>Other</th>\n",
       "    </tr>\n",
       "  </thead>\n",
       "  <tbody>\n",
       "    <tr>\n",
       "      <th>0</th>\n",
       "      <td>2021-02-19 00:00:00</td>\n",
       "      <td>0</td>\n",
       "      <td>6</td>\n",
       "      <td>22203</td>\n",
       "      <td>0</td>\n",
       "      <td>0</td>\n",
       "      <td>19</td>\n",
       "      <td>135</td>\n",
       "      <td>24</td>\n",
       "      <td>11</td>\n",
       "      <td>101</td>\n",
       "    </tr>\n",
       "    <tr>\n",
       "      <th>1</th>\n",
       "      <td>2021-02-19 00:15:00</td>\n",
       "      <td>1</td>\n",
       "      <td>6</td>\n",
       "      <td>22204</td>\n",
       "      <td>0</td>\n",
       "      <td>15</td>\n",
       "      <td>19</td>\n",
       "      <td>135</td>\n",
       "      <td>24</td>\n",
       "      <td>11</td>\n",
       "      <td>101</td>\n",
       "    </tr>\n",
       "    <tr>\n",
       "      <th>2</th>\n",
       "      <td>2021-02-19 00:30:00</td>\n",
       "      <td>2</td>\n",
       "      <td>6</td>\n",
       "      <td>22205</td>\n",
       "      <td>0</td>\n",
       "      <td>30</td>\n",
       "      <td>19</td>\n",
       "      <td>135</td>\n",
       "      <td>24</td>\n",
       "      <td>12</td>\n",
       "      <td>101</td>\n",
       "    </tr>\n",
       "    <tr>\n",
       "      <th>3</th>\n",
       "      <td>2021-02-19 00:45:00</td>\n",
       "      <td>3</td>\n",
       "      <td>6</td>\n",
       "      <td>22206</td>\n",
       "      <td>0</td>\n",
       "      <td>45</td>\n",
       "      <td>19</td>\n",
       "      <td>135</td>\n",
       "      <td>23</td>\n",
       "      <td>12</td>\n",
       "      <td>101</td>\n",
       "    </tr>\n",
       "    <tr>\n",
       "      <th>4</th>\n",
       "      <td>2021-02-19 01:00:00</td>\n",
       "      <td>4</td>\n",
       "      <td>6</td>\n",
       "      <td>22207</td>\n",
       "      <td>1</td>\n",
       "      <td>0</td>\n",
       "      <td>19</td>\n",
       "      <td>135</td>\n",
       "      <td>23</td>\n",
       "      <td>12</td>\n",
       "      <td>101</td>\n",
       "    </tr>\n",
       "    <tr>\n",
       "      <th>...</th>\n",
       "      <td>...</td>\n",
       "      <td>...</td>\n",
       "      <td>...</td>\n",
       "      <td>...</td>\n",
       "      <td>...</td>\n",
       "      <td>...</td>\n",
       "      <td>...</td>\n",
       "      <td>...</td>\n",
       "      <td>...</td>\n",
       "      <td>...</td>\n",
       "      <td>...</td>\n",
       "    </tr>\n",
       "    <tr>\n",
       "      <th>1819</th>\n",
       "      <td>2021-03-10 22:45:00</td>\n",
       "      <td>91</td>\n",
       "      <td>4</td>\n",
       "      <td>24118</td>\n",
       "      <td>22</td>\n",
       "      <td>45</td>\n",
       "      <td>10</td>\n",
       "      <td>137</td>\n",
       "      <td>23</td>\n",
       "      <td>11</td>\n",
       "      <td>101</td>\n",
       "    </tr>\n",
       "    <tr>\n",
       "      <th>1820</th>\n",
       "      <td>2021-03-10 23:00:00</td>\n",
       "      <td>92</td>\n",
       "      <td>4</td>\n",
       "      <td>24119</td>\n",
       "      <td>23</td>\n",
       "      <td>0</td>\n",
       "      <td>10</td>\n",
       "      <td>137</td>\n",
       "      <td>22</td>\n",
       "      <td>11</td>\n",
       "      <td>101</td>\n",
       "    </tr>\n",
       "    <tr>\n",
       "      <th>1821</th>\n",
       "      <td>2021-03-10 23:15:00</td>\n",
       "      <td>93</td>\n",
       "      <td>4</td>\n",
       "      <td>24120</td>\n",
       "      <td>23</td>\n",
       "      <td>15</td>\n",
       "      <td>10</td>\n",
       "      <td>138</td>\n",
       "      <td>21</td>\n",
       "      <td>11</td>\n",
       "      <td>101</td>\n",
       "    </tr>\n",
       "    <tr>\n",
       "      <th>1822</th>\n",
       "      <td>2021-03-10 23:30:00</td>\n",
       "      <td>94</td>\n",
       "      <td>4</td>\n",
       "      <td>24121</td>\n",
       "      <td>23</td>\n",
       "      <td>30</td>\n",
       "      <td>10</td>\n",
       "      <td>138</td>\n",
       "      <td>21</td>\n",
       "      <td>12</td>\n",
       "      <td>101</td>\n",
       "    </tr>\n",
       "    <tr>\n",
       "      <th>1823</th>\n",
       "      <td>2021-03-10 23:45:00</td>\n",
       "      <td>95</td>\n",
       "      <td>4</td>\n",
       "      <td>24122</td>\n",
       "      <td>23</td>\n",
       "      <td>45</td>\n",
       "      <td>10</td>\n",
       "      <td>138</td>\n",
       "      <td>20</td>\n",
       "      <td>12</td>\n",
       "      <td>101</td>\n",
       "    </tr>\n",
       "  </tbody>\n",
       "</table>\n",
       "<p>1824 rows × 11 columns</p>\n",
       "</div>\n",
       "      <button class=\"colab-df-convert\" onclick=\"convertToInteractive('df-410f023a-c83b-40a7-ae3e-5fe7130c76df')\"\n",
       "              title=\"Convert this dataframe to an interactive table.\"\n",
       "              style=\"display:none;\">\n",
       "        \n",
       "  <svg xmlns=\"http://www.w3.org/2000/svg\" height=\"24px\"viewBox=\"0 0 24 24\"\n",
       "       width=\"24px\">\n",
       "    <path d=\"M0 0h24v24H0V0z\" fill=\"none\"/>\n",
       "    <path d=\"M18.56 5.44l.94 2.06.94-2.06 2.06-.94-2.06-.94-.94-2.06-.94 2.06-2.06.94zm-11 1L8.5 8.5l.94-2.06 2.06-.94-2.06-.94L8.5 2.5l-.94 2.06-2.06.94zm10 10l.94 2.06.94-2.06 2.06-.94-2.06-.94-.94-2.06-.94 2.06-2.06.94z\"/><path d=\"M17.41 7.96l-1.37-1.37c-.4-.4-.92-.59-1.43-.59-.52 0-1.04.2-1.43.59L10.3 9.45l-7.72 7.72c-.78.78-.78 2.05 0 2.83L4 21.41c.39.39.9.59 1.41.59.51 0 1.02-.2 1.41-.59l7.78-7.78 2.81-2.81c.8-.78.8-2.07 0-2.86zM5.41 20L4 18.59l7.72-7.72 1.47 1.35L5.41 20z\"/>\n",
       "  </svg>\n",
       "      </button>\n",
       "      \n",
       "  <style>\n",
       "    .colab-df-container {\n",
       "      display:flex;\n",
       "      flex-wrap:wrap;\n",
       "      gap: 12px;\n",
       "    }\n",
       "\n",
       "    .colab-df-convert {\n",
       "      background-color: #E8F0FE;\n",
       "      border: none;\n",
       "      border-radius: 50%;\n",
       "      cursor: pointer;\n",
       "      display: none;\n",
       "      fill: #1967D2;\n",
       "      height: 32px;\n",
       "      padding: 0 0 0 0;\n",
       "      width: 32px;\n",
       "    }\n",
       "\n",
       "    .colab-df-convert:hover {\n",
       "      background-color: #E2EBFA;\n",
       "      box-shadow: 0px 1px 2px rgba(60, 64, 67, 0.3), 0px 1px 3px 1px rgba(60, 64, 67, 0.15);\n",
       "      fill: #174EA6;\n",
       "    }\n",
       "\n",
       "    [theme=dark] .colab-df-convert {\n",
       "      background-color: #3B4455;\n",
       "      fill: #D2E3FC;\n",
       "    }\n",
       "\n",
       "    [theme=dark] .colab-df-convert:hover {\n",
       "      background-color: #434B5C;\n",
       "      box-shadow: 0px 1px 3px 1px rgba(0, 0, 0, 0.15);\n",
       "      filter: drop-shadow(0px 1px 2px rgba(0, 0, 0, 0.3));\n",
       "      fill: #FFFFFF;\n",
       "    }\n",
       "  </style>\n",
       "\n",
       "      <script>\n",
       "        const buttonEl =\n",
       "          document.querySelector('#df-410f023a-c83b-40a7-ae3e-5fe7130c76df button.colab-df-convert');\n",
       "        buttonEl.style.display =\n",
       "          google.colab.kernel.accessAllowed ? 'block' : 'none';\n",
       "\n",
       "        async function convertToInteractive(key) {\n",
       "          const element = document.querySelector('#df-410f023a-c83b-40a7-ae3e-5fe7130c76df');\n",
       "          const dataTable =\n",
       "            await google.colab.kernel.invokeFunction('convertToInteractive',\n",
       "                                                     [key], {});\n",
       "          if (!dataTable) return;\n",
       "\n",
       "          const docLinkHtml = 'Like what you see? Visit the ' +\n",
       "            '<a target=\"_blank\" href=https://colab.research.google.com/notebooks/data_table.ipynb>data table notebook</a>'\n",
       "            + ' to learn more about interactive tables.';\n",
       "          element.innerHTML = '';\n",
       "          dataTable['output_type'] = 'display_data';\n",
       "          await google.colab.output.renderOutput(dataTable, element);\n",
       "          const docLink = document.createElement('div');\n",
       "          docLink.innerHTML = docLinkHtml;\n",
       "          element.appendChild(docLink);\n",
       "        }\n",
       "      </script>\n",
       "    </div>\n",
       "  </div>\n",
       "  "
      ],
      "text/plain": [
       "                    date  tod  dow  trend  hour  min  dayofmonth  Available  \\\n",
       "0    2021-02-19 00:00:00    0    6  22203     0    0          19        135   \n",
       "1    2021-02-19 00:15:00    1    6  22204     0   15          19        135   \n",
       "2    2021-02-19 00:30:00    2    6  22205     0   30          19        135   \n",
       "3    2021-02-19 00:45:00    3    6  22206     0   45          19        135   \n",
       "4    2021-02-19 01:00:00    4    6  22207     1    0          19        135   \n",
       "...                  ...  ...  ...    ...   ...  ...         ...        ...   \n",
       "1819 2021-03-10 22:45:00   91    4  24118    22   45          10        137   \n",
       "1820 2021-03-10 23:00:00   92    4  24119    23    0          10        137   \n",
       "1821 2021-03-10 23:15:00   93    4  24120    23   15          10        138   \n",
       "1822 2021-03-10 23:30:00   94    4  24121    23   30          10        138   \n",
       "1823 2021-03-10 23:45:00   95    4  24122    23   45          10        138   \n",
       "\n",
       "      Charging  Passive  Other  \n",
       "0           24       11    101  \n",
       "1           24       11    101  \n",
       "2           24       12    101  \n",
       "3           23       12    101  \n",
       "4           23       12    101  \n",
       "...        ...      ...    ...  \n",
       "1819        23       11    101  \n",
       "1820        22       11    101  \n",
       "1821        21       11    101  \n",
       "1822        21       12    101  \n",
       "1823        20       12    101  \n",
       "\n",
       "[1824 rows x 11 columns]"
      ]
     },
     "execution_count": 26,
     "metadata": {},
     "output_type": "execute_result"
    }
   ],
   "source": [
    "df333=test_station.copy()\n",
    "test_pred_class=np.floor(chain.predict(test_station[col_act])).astype(int)\n",
    "df333[targets]=test_pred_class\n",
    "df333"
   ]
  },
  {
   "cell_type": "code",
   "execution_count": null,
   "id": "zR8Dmfm4mgoK",
   "metadata": {
    "id": "zR8Dmfm4mgoK"
   },
   "outputs": [],
   "source": [
    "df333[['date'] +\n",
    "                  targets].to_csv(\"global.csv\", index=False)\n"
   ]
  }
 ],
 "metadata": {
  "accelerator": "GPU",
  "colab": {
   "provenance": []
  },
  "gpuClass": "standard",
  "kernelspec": {
   "display_name": "Python 3",
   "language": "python",
   "name": "python3"
  },
  "language_info": {
   "codemirror_mode": {
    "name": "ipython",
    "version": 3
   },
   "file_extension": ".py",
   "mimetype": "text/x-python",
   "name": "python",
   "nbconvert_exporter": "python",
   "pygments_lexer": "ipython3",
   "version": "3.11.0 (v3.11.0:deaf509e8f, Oct 24 2022, 14:43:23) [Clang 13.0.0 (clang-1300.0.29.30)]"
  },
  "vscode": {
   "interpreter": {
    "hash": "aee8b7b246df8f9039afb4144a1f6fd8d2ca17a180786b69acc140d282b71a49"
   }
  }
 },
 "nbformat": 4,
 "nbformat_minor": 5
}
